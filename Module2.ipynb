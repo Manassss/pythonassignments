{
 "cells": [
  {
   "cell_type": "markdown",
   "metadata": {},
   "source": [
    "# Python Basics"
   ]
  },
  {
   "cell_type": "markdown",
   "metadata": {},
   "source": [
    "These assignments aim to get you acquainted with Python, which is an important requirement for all the research done at Solarillion Foundation. Apart from teaching you Python, these assignments also aim to make you a better programmer and cultivate better coding practices. \n",
    "\n",
    "Visit these links for more details: <br>\n",
    "PEP8 Practices: https://www.python.org/dev/peps/pep-0008/ <br>\n",
    "Check PEP8: http://pep8online.com <br>\n",
    "Python Reference: https://www.py4e.com/lessons <br>\n",
    "\n",
    "Do use Google efficiently, and refer to StackOverflow for clarifying any programming doubts. If you're still stuck, feel free to ask a TA to help you.\n",
    "\n",
    "Each task in the assignment comprises of at least two cells. There are function definitions wherein you will name the function(s), and write code to solve the problem at hand. You will call the function(s) in the last cell of each task, and check your output.\n",
    "\n",
    "We encourage you to play around and learn as much as possible, and be as creative as you can get. More than anything, have fun doing these assignments. Enjoy!"
   ]
  },
  {
   "cell_type": "markdown",
   "metadata": {},
   "source": [
    "# Important\n",
    "* **Only the imports and functions must be present when you upload this notebook to GitHub for verification.** \n",
    "* **Do not upload it until you want to get it verified. Do not change function names or add extra cells or code, or remove anything.**\n",
    "* **For your rough work and four showing your code to TAs, use a different notebook with the name Module2Playground.ipynb and copy only the final functions to this notebook for verification.**"
   ]
  },
  {
   "cell_type": "markdown",
   "metadata": {},
   "source": [
    "# Module 2\n",
    "Scope: NumPy, pandas, pickle, matplotlib, File operations"
   ]
  },
  {
   "cell_type": "markdown",
   "metadata": {},
   "source": [
    "## Imports - Always Execute First!\n",
    "Import any modules and turn on any magic here:"
   ]
  },
  {
   "cell_type": "code",
   "execution_count": 33,
   "metadata": {},
   "outputs": [],
   "source": [
    "import matplotlib as mpl\n",
    "import matplotlib.pyplot as plt\n",
    "import numpy as np\n",
    "import pandas as pd\n",
    "import pickle as pkl\n",
    "# from IPython import get_ipython\n",
    "# ipy = get_ipython()\n",
    "# if ipy is not None:\n",
    "#     ipy.run_line_magic(\"load_ext\", \"pycodestyle_magic\")\n",
    "#     ipy.run_line_magic(\"pycodestyle_on\", \"\")\n",
    "#     ipy.run_line_magic(\"matplotlib\", \"inline\")"
   ]
  },
  {
   "cell_type": "markdown",
   "metadata": {},
   "source": [
    "## Task 1"
   ]
  },
  {
   "cell_type": "markdown",
   "metadata": {},
   "source": [
    "Basics of NumPy, pandas, pickle and matplotlib."
   ]
  },
  {
   "cell_type": "markdown",
   "metadata": {},
   "source": [
    "**Question 1**"
   ]
  },
  {
   "cell_type": "code",
   "execution_count": 34,
   "metadata": {},
   "outputs": [
    {
     "data": {
      "text/plain": [
       "\"\\n    Read the pickle file 'Data/Stress.pkl' and transform the contents into a\\n    a pandas DataFrame of the following form:\\n    \\n            +------+------+------+-----+------+-------+\\n            | ACCx | ACCy | ACCz | ECG | RESP | LABEL |\\n            +------+------+------+-----+------+-------+\\n            |      |      |      |     |      |       |\\n            +------+------+------+-----+------+-------+\\n            |      |      |      |     |      |       |\\n            +------+------+------+-----+------+-------+\\n            |      |      |      |     |      |       |\\n            +------+------+------+-----+------+-------+\\n\\n            Shape: (700, 6)\\n\\n    Save this DataFrame as a CSV file.\\n\\n    Modules\\n    -------\\n    pickle, pandas\\n    \\n    Lookups\\n    -------\\n    NumPy and pandas basics (Check the Lookups folder)\\n    Try to complete the tasks in the Lookups, and play around with the notebooks.\\n\""
      ]
     },
     "execution_count": 34,
     "metadata": {},
     "output_type": "execute_result"
    }
   ],
   "source": [
    "\"\"\"\n",
    "    Read the pickle file 'Data/Stress.pkl' and transform the contents into a\n",
    "    a pandas DataFrame of the following form:\n",
    "    \n",
    "            +------+------+------+-----+------+-------+\n",
    "            | ACCx | ACCy | ACCz | ECG | RESP | LABEL |\n",
    "            +------+------+------+-----+------+-------+\n",
    "            |      |      |      |     |      |       |\n",
    "            +------+------+------+-----+------+-------+\n",
    "            |      |      |      |     |      |       |\n",
    "            +------+------+------+-----+------+-------+\n",
    "            |      |      |      |     |      |       |\n",
    "            +------+------+------+-----+------+-------+\n",
    "\n",
    "            Shape: (700, 6)\n",
    "\n",
    "    Save this DataFrame as a CSV file.\n",
    "\n",
    "    Modules\n",
    "    -------\n",
    "    pickle, pandas\n",
    "    \n",
    "    Lookups\n",
    "    -------\n",
    "    NumPy and pandas basics (Check the Lookups folder)\n",
    "    Try to complete the tasks in the Lookups, and play around with the notebooks.\n",
    "\"\"\"        "
   ]
  },
  {
   "cell_type": "code",
   "execution_count": 35,
   "metadata": {},
   "outputs": [],
   "source": [
    "def pickle_to_csv(filename):\n",
    "    \"\"\"\n",
    "        Function: pickle_to_csv(filename)\n",
    "        Parameters: filename (String)\n",
    "        Save: DataFrame as `Stress.csv` in folder `Data`\n",
    "        Return: DataFrame\n",
    "    \"\"\"\n",
    "    infile=open(filename,\"rb\")\n",
    "    new_dict=pkl.load(infile)\n",
    "   \n",
    "    new=new_dict['signal']\n",
    "    \n",
    "    df1=pd.DataFrame(new['ACC'])\n",
    "    \n",
    "    df2=pd.DataFrame(new['ECG'])\n",
    "    df3=pd.DataFrame(new['RESP'])\n",
    "    df4=pd.DataFrame(new['LABEL'])\n",
    "    horizontal_stack=pd.concat([df1,df2,df3,df4],axis=1,ignore_index=True).replace(np.nan,'')\n",
    "    df5=pd.DataFrame(horizontal_stack)\n",
    "    df5_cols=['ACCx','ACCy','Accz','ECG','RESP','LABEL']\n",
    "    df5.columns=df5_cols\n",
    "    print(df5)\n",
    "    df5.to_csv('modified.csv',index=False)\n",
    "    \n",
    "    \n",
    "    \n",
    "\n",
    "   \n",
    "        \n",
    "\n",
    "   \n",
    "        \n",
    "\n",
    "    \n",
    "    \n",
    "    \n",
    "    \n",
    "   \n",
    "\n",
    "    \n",
    "    \n",
    "    \n",
    "    \n",
    "\n",
    "    "
   ]
  },
  {
   "cell_type": "code",
   "execution_count": 36,
   "metadata": {},
   "outputs": [
    {
     "name": "stdout",
     "output_type": "stream",
     "text": [
      "       ACCx    ACCy    Accz       ECG      RESP  LABEL\n",
      "0    0.9554 -0.2220 -0.5580  0.021423 -1.148987    0.0\n",
      "1    0.9258 -0.2216 -0.5538  0.020325 -1.124573    0.0\n",
      "2    0.9082 -0.2196 -0.5392  0.016525 -1.152039    0.0\n",
      "3    0.8974 -0.2102 -0.5122  0.016708 -1.158142    0.0\n",
      "4    0.8882 -0.2036 -0.4824  0.011673 -1.161194    0.0\n",
      "..      ...     ...     ...       ...       ...    ...\n",
      "695  0.9134 -0.1400  0.1074  0.003479  2.299500    7.0\n",
      "696  0.9092 -0.1394  0.0994  0.000778  2.305603    7.0\n",
      "697  0.9084 -0.1414  0.0934 -0.001694  2.297974    7.0\n",
      "698  0.9116 -0.1416  0.0958 -0.003799  2.354431    7.0\n",
      "699  0.9156 -0.1396  0.1022 -0.006546  2.355957    7.0\n",
      "\n",
      "[700 rows x 6 columns]\n"
     ]
    }
   ],
   "source": [
    "pickle_to_csv(\"Data/Stress.pkl\")\n"
   ]
  },
  {
   "cell_type": "markdown",
   "metadata": {},
   "source": [
    "**Question 2**"
   ]
  },
  {
   "cell_type": "code",
   "execution_count": 37,
   "metadata": {},
   "outputs": [
    {
     "data": {
      "text/plain": [
       "'\\n    Find the number of occurrences of each unique value in `LABEL` (count of values).\\n    \\n    Add a column `BINARY` to the DataFrame which contains 1 if `LABEL` is 2,\\n    else 0.\\n    \\n    Find the mean, minimum, maximum and standard deviation of `RESP` for each value in `LABEL`.\\n'"
      ]
     },
     "execution_count": 37,
     "metadata": {},
     "output_type": "execute_result"
    }
   ],
   "source": [
    "\"\"\"\n",
    "    Find the number of occurrences of each unique value in `LABEL` (count of values).\n",
    "    \n",
    "    Add a column `BINARY` to the DataFrame which contains 1 if `LABEL` is 2,\n",
    "    else 0.\n",
    "    \n",
    "    Find the mean, minimum, maximum and standard deviation of `RESP` for each value in `LABEL`.\n",
    "\"\"\""
   ]
  },
  {
   "cell_type": "code",
   "execution_count": 38,
   "metadata": {},
   "outputs": [],
   "source": [
    "def count_unique(dataframe):\n",
    "    \"\"\"\n",
    "        Function 1: count_unique(dataframe)\n",
    "        Parameters: dataframe: Stress data DataFrame\n",
    "        Return: dict containing count of values in `LABEL`\n",
    "    \"\"\"\n",
    "     \n",
    "    \n",
    "    df=pd.read_csv(dataframe)\n",
    "#     print(df)\n",
    "    unique_values=df[\"LABEL\"].value_counts()\n",
    "    data_dict=unique_values.to_dict()\n",
    "#     df1=pd.DataFrame(unique_values)\n",
    "#     data_dict=df1.to_dict()\n",
    "    print(data_dict)\n",
    "    "
   ]
  },
  {
   "cell_type": "code",
   "execution_count": 39,
   "metadata": {},
   "outputs": [
    {
     "name": "stdout",
     "output_type": "stream",
     "text": [
      "{7.0: 100, 3.0: 100, 4.0: 100, 6.0: 100, 2.0: 100, 1.0: 100, 0.0: 100}\n"
     ]
    }
   ],
   "source": [
    "# Call your function here\n",
    "count_unique(\"modified.csv\")"
   ]
  },
  {
   "cell_type": "code",
   "execution_count": 40,
   "metadata": {},
   "outputs": [],
   "source": [
    "def add_binary(dataframe):\n",
    "    \"\"\"\n",
    "        Function 2: add_binary(dataframe)\n",
    "        Parameters: dataframe: Stress data DataFrame\n",
    "        Return: DataFrame (updated, containing `BINARY`)\n",
    "    \"\"\"\n",
    "    df=pd.read_csv(dataframe)\n",
    "#     df['BINARY']=np.where(df[\"LABEL\"]==2.0,1,0)\n",
    "    df['BINARY']=[1 if x==2.0 else 0 for x in df['LABEL']]\n",
    "    print(df)\n",
    "    df.to_csv('modified2.csv')\n",
    "    \n",
    "    \n",
    "    "
   ]
  },
  {
   "cell_type": "code",
   "execution_count": 41,
   "metadata": {},
   "outputs": [
    {
     "name": "stdout",
     "output_type": "stream",
     "text": [
      "       ACCx    ACCy    Accz       ECG      RESP  LABEL  BINARY\n",
      "0    0.9554 -0.2220 -0.5580  0.021423 -1.148987    0.0       0\n",
      "1    0.9258 -0.2216 -0.5538  0.020325 -1.124573    0.0       0\n",
      "2    0.9082 -0.2196 -0.5392  0.016525 -1.152039    0.0       0\n",
      "3    0.8974 -0.2102 -0.5122  0.016708 -1.158142    0.0       0\n",
      "4    0.8882 -0.2036 -0.4824  0.011673 -1.161194    0.0       0\n",
      "..      ...     ...     ...       ...       ...    ...     ...\n",
      "695  0.9134 -0.1400  0.1074  0.003479  2.299500    7.0       0\n",
      "696  0.9092 -0.1394  0.0994  0.000778  2.305603    7.0       0\n",
      "697  0.9084 -0.1414  0.0934 -0.001694  2.297974    7.0       0\n",
      "698  0.9116 -0.1416  0.0958 -0.003799  2.354431    7.0       0\n",
      "699  0.9156 -0.1396  0.1022 -0.006546  2.355957    7.0       0\n",
      "\n",
      "[700 rows x 7 columns]\n"
     ]
    }
   ],
   "source": [
    "# Call your function here\n",
    "add_binary(\"modified.csv\")"
   ]
  },
  {
   "cell_type": "code",
   "execution_count": 42,
   "metadata": {},
   "outputs": [],
   "source": [
    "def compute_resp(dataframe):\n",
    "    \"\"\"\n",
    "        Function 3: compute_resp(dataframe)\n",
    "        Parameters: dataframe: Stress data DataFrame\n",
    "        Return: dict containing mean, min, max and standard deviation of `RESP`\n",
    "                for each value in `LABEL`\n",
    "        Dictionary Format: {label_value: [mean, min, max, std_dev]}\n",
    "        Example: {1: [1, 0, 2, 1], 2: [0, -1, 1, 1], ... }\n",
    "   \"\"\"\n",
    "  \n",
    "    df=pd.read_csv(dataframe)\n",
    "    \n",
    "    mean=df.groupby('LABEL')['RESP'].mean()\n",
    "    maxmum=df.groupby('LABEL')['RESP'].max()\n",
    "    minmum=df.groupby('LABEL')['RESP'].min()\n",
    "    std_dev=df.groupby('LABEL')['RESP'].std()\n",
    "    m=list(mean)\n",
    "    m1=list(maxmum)\n",
    "    m2=list(minmum)\n",
    "    m3=list(std_dev)\n",
    "    #print(df['LABEL'])\n",
    "    l=list(df.LABEL.unique())\n",
    "    #print(l)\n",
    "    new_list=list(map(list,zip(m,m1,m2,m3)))\n",
    "    #print(new_list)\n",
    "    \n",
    "    d={l[i]:new_list[i] for i in range(len(l))}\n",
    "    \n",
    "    print(d)\n",
    "    \n",
    "   # d= dict([(i,[a,b,c,d]) for i,a,b,c,d in zip(df.LABEL, )])\n",
    "\n",
    "    #print(d)\n",
    "    #d={}\n",
    "    #for i in new_list:\n",
    "     #   d[df[\"LABEL\"]]=i\n",
    "        \n",
    "    #print(d)\n",
    "        \n",
    "    \n",
    "   \n",
    "    \n",
    "\n",
    "   \n",
    "   \n",
    "    \n",
    "   \n",
    "        \n",
    "    \n",
    "    "
   ]
  },
  {
   "cell_type": "code",
   "execution_count": 43,
   "metadata": {
    "scrolled": true
   },
   "outputs": [
    {
     "name": "stdout",
     "output_type": "stream",
     "text": [
      "{0.0: [-1.19342041015625, -1.12457275390625, -1.39617919921875, 0.042247046316039066], 1.0: [0.7134246826171875, 1.19171142578125, -0.23345947265625, 0.29553391572374704], 2.0: [-1.0665130615234375, -0.86517333984375, -1.63116455078125, 0.12823314954549303], 6.0: [-0.5306396484375, -0.09918212890625, -1.27105712890625, 0.24397469864245044], 4.0: [-2.1305999755859375, -2.00042724609375, -2.54364013671875, 0.08807708808175217], 3.0: [0.084747314453125, 0.16632080078125, -0.4180908203125, 0.08561486266706554], 7.0: [1.1905059814453125, 2.35595703125, -0.00457763671875, 0.6931962371698447]}\n"
     ]
    }
   ],
   "source": [
    "# Call your function here\n",
    "compute_resp(\"modified.csv\")\n"
   ]
  },
  {
   "cell_type": "markdown",
   "metadata": {},
   "source": [
    "**Question 3**"
   ]
  },
  {
   "cell_type": "code",
   "execution_count": 44,
   "metadata": {},
   "outputs": [
    {
     "data": {
      "text/plain": [
       "'\\n    Plot `RESP` using matplotlib (pyplot):\\n    - First, just plot the raw values.\\n    - Next, try using different colours for data points based on `BINARY`.\\n    - Experiment and come up with a useful plot.\\n'"
      ]
     },
     "execution_count": 44,
     "metadata": {},
     "output_type": "execute_result"
    }
   ],
   "source": [
    "\"\"\"\n",
    "    Plot `RESP` using matplotlib (pyplot):\n",
    "    - First, just plot the raw values.\n",
    "    - Next, try using different colours for data points based on `BINARY`.\n",
    "    - Experiment and come up with a useful plot.\n",
    "\"\"\""
   ]
  },
  {
   "cell_type": "code",
   "execution_count": 45,
   "metadata": {},
   "outputs": [],
   "source": [
    "def plot_raw(dataframe):\n",
    "    \"\"\"\n",
    "        Function 1: plot_raw(dataframe)\n",
    "        Parameters: dataframe: Stress data DataFrame\n",
    "        Output: Plot\n",
    "    \"\"\"\n",
    "    df=pd.read_csv(dataframe)\n",
    "    df.reset_index().plot(x='index',y=\"RESP\")\n",
    "    plt.show()"
   ]
  },
  {
   "cell_type": "code",
   "execution_count": 46,
   "metadata": {},
   "outputs": [
    {
     "data": {
      "image/png": "[encoded data removed]",
      "text/plain": [
       "<Figure size 432x288 with 1 Axes>"
      ]
     },
     "metadata": {
      "needs_background": "light"
     },
     "output_type": "display_data"
    }
   ],
   "source": [
    "# Call your function here\n",
    "plot_raw(\"modified.csv\")"
   ]
  },
  {
   "cell_type": "code",
   "execution_count": 113,
   "metadata": {},
   "outputs": [],
   "source": [
    "def plot_coloured(dataframe):\n",
    "    \"\"\"\n",
    "        Function 2: plot_coloured(dataframe)\n",
    "        Parameters: dataframe: Stress data DataFrame\n",
    "        Outpu\n",
    "        t: Plot\n",
    "    \"\"\"\n",
    "    df=pd.read_csv(dataframe)\n",
    "    m=df.reset_index()\n",
    "#     print(m)\n",
    "    m.plot.scatter(x='index',y=\"RESP\",c=\"LABEL\",cmap=\"viridis\")\n",
    "   \n",
    "    \n",
    "\n",
    "    \n",
    "        \n",
    "    \n",
    "        \n",
    "        \n",
    "    "
   ]
  },
  {
   "cell_type": "code",
   "execution_count": 114,
   "metadata": {},
   "outputs": [
    {
     "data": {
      "image/png": "[encoded data removed]",
      "text/plain": [
       "<Figure size 432x288 with 2 Axes>"
      ]
     },
     "metadata": {
      "needs_background": "light"
     },
     "output_type": "display_data"
    }
   ],
   "source": [
    "# Call your function here\n",
    "plot_coloured(\"modified2.csv\")"
   ]
  },
  {
   "cell_type": "markdown",
   "metadata": {},
   "source": [
    "## Task 2"
   ]
  },
  {
   "cell_type": "markdown",
   "metadata": {},
   "source": [
    "Some simple file operations."
   ]
  },
  {
   "cell_type": "code",
   "execution_count": null,
   "metadata": {},
   "outputs": [],
   "source": [
    "\"\"\"\n",
    "    Generate a text file containing 50 integer elements between 1 and 20 (use `random`). \n",
    "    Identify the unique numbers and the number of their occurrences, and write this into \n",
    "    a new text file.\n",
    "    \n",
    "    Example\n",
    "    -------\n",
    "    \n",
    "    Generated File\n",
    "    --------------\n",
    "    1 2 3 4 3 2 1 ...\n",
    "    \n",
    "    Count File\n",
    "    ----------\n",
    "    1 - 2\n",
    "    2 - 2\n",
    "    3 - 2\n",
    "    4 - 1\n",
    "    ...\n",
    "\"\"\""
   ]
  },
  {
   "cell_type": "code",
   "execution_count": 230,
   "metadata": {},
   "outputs": [],
   "source": [
    "def random_numbers():\n",
    "    \"\"\"\n",
    "        Function: random_numbers()\n",
    "        Save: `Numbers.txt` containing the 50 integers,\n",
    "              `Count.txt` containing the count of unique integers\n",
    "    \"\"\"\n",
    "    from collections import Counter\n",
    "    import random\n",
    "    f=open(\"Numbers.txt\",\"w+\")\n",
    "    for count in range(50):\n",
    "        num=random.randint(1,20)\n",
    "        k=str(num)\n",
    "        f.write(k+' ')\n",
    "    \n",
    "        \n",
    "        \n",
    "    \n",
    "    \n",
    "   \n",
    "        \n",
    "    \n",
    "    f.close()\n",
    "    \n",
    "    \n",
    "    f=open(\"Numbers.txt\")\n",
    "    \n",
    "    file_contents=f.read()\n",
    "#     print(file_contents)\n",
    "    k=file_contents.split()\n",
    "#     print(k)\n",
    "    l=Counter(k)\n",
    "#     print(l)\n",
    "    f.close()\n",
    "    f=open(\"Counter.txt\",\"w+\")\n",
    "    for m,n in l.items():\n",
    "        print(str(m)+'-'+str(n)+'\\n')\n",
    "    f.close()\n",
    "\n"
   ]
  },
  {
   "cell_type": "code",
   "execution_count": 231,
   "metadata": {},
   "outputs": [
    {
     "name": "stdout",
     "output_type": "stream",
     "text": [
      "5-4\n",
      "\n",
      "10-2\n",
      "\n",
      "3-7\n",
      "\n",
      "9-4\n",
      "\n",
      "14-4\n",
      "\n",
      "12-1\n",
      "\n",
      "4-3\n",
      "\n",
      "8-5\n",
      "\n",
      "15-1\n",
      "\n",
      "17-1\n",
      "\n",
      "13-1\n",
      "\n",
      "16-1\n",
      "\n",
      "2-3\n",
      "\n",
      "11-1\n",
      "\n",
      "1-1\n",
      "\n",
      "20-3\n",
      "\n",
      "18-1\n",
      "\n",
      "19-4\n",
      "\n",
      "6-2\n",
      "\n",
      "7-1\n",
      "\n"
     ]
    }
   ],
   "source": [
    "# Call your function here\n",
    "random_numbers()"
   ]
  },
  {
   "cell_type": "markdown",
   "metadata": {},
   "source": [
    "Once you're done, move on to Module 3. Great job!"
   ]
  },
  {
   "cell_type": "code",
   "execution_count": null,
   "metadata": {},
   "outputs": [],
   "source": []
  }
 ],
 "metadata": {
  "kernelspec": {
   "display_name": "Python 3",
   "language": "python",
   "name": "python3"
  },
  "language_info": {
   "codemirror_mode": {
    "name": "ipython",
    "version": 3
   },
   "file_extension": ".py",
   "mimetype": "text/x-python",
   "name": "python",
   "nbconvert_exporter": "python",
   "pygments_lexer": "ipython3",
   "version": "3.7.6"
  }
 },
 "nbformat": 4,
 "nbformat_minor": 2
}
